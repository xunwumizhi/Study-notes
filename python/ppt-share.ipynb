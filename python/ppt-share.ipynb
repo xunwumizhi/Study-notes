{
 "cells": [
  {
   "cell_type": "markdown",
   "metadata": {},
   "source": [
    "# 基础知识\n",
    "\n",
    "Python语言特点：\n",
    "\n",
    "- 脚本语言\n",
    "- 强类型\n",
    "- 动态类型\n",
    "\n",
    "\n",
    "运行时特点：\n",
    "1. **解释型语言**：Python 代码在运行时逐行解释执行，不需要编译成机器码。\n",
    "2. **动态类型**：变量类型在运行时确定，可以灵活地改变类型。\n",
    "3. **自动内存管理**：有GC，使用垃圾回收机制自动管理内存，开发者不需要手动分配和释放内存。\n",
    "4. **跨平台性**：Python 代码可以在不同操作系统上运行，前提是安装了相应的解释器。\n"
   ]
  },
  {
   "cell_type": "markdown",
   "metadata": {},
   "source": [
    "## 基础类型"
   ]
  },
  {
   "cell_type": "code",
   "execution_count": null,
   "metadata": {},
   "outputs": [],
   "source": [
    "# 第一个注释\n",
    "print (\"Hello, Python!\") # 行内注释\n",
    "\n",
    "# number\n",
    "one = 1.2\n",
    "two, three = 2, 3\n",
    "total = one + \\\n",
    "        two + \\\n",
    "        three\n",
    "print(total)\n",
    "\n",
    "# 字符串\n",
    "word = '单引号'\n",
    "sentence = \"双引号\"\n",
    "paragraph = '''这是一个段落，\n",
    "可以由多行组成'''\n",
    "\n",
    "# 用多行字符串表示多行注释\n",
    "'''\n",
    "第三注释\n",
    "第四注释\n",
    "'''\n",
    "\n",
    "# bool类型\n",
    "_bool: bool = False\n",
    "_bool = True\n"
   ]
  },
  {
   "cell_type": "markdown",
   "metadata": {},
   "source": [
    "## 数据类型的声明、判断、转换"
   ]
  },
  {
   "cell_type": "code",
   "execution_count": 13,
   "metadata": {},
   "outputs": [
    {
     "ename": "NameError",
     "evalue": "name 'foo' is not defined",
     "output_type": "error",
     "traceback": [
      "\u001b[0;31m---------------------------------------------------------------------------\u001b[0m",
      "\u001b[0;31mNameError\u001b[0m                                 Traceback (most recent call last)",
      "Cell \u001b[0;32mIn[13], line 2\u001b[0m\n\u001b[1;32m      1\u001b[0m \u001b[38;5;66;03m# 变量类型不需要声明。每个变量在使用前都必须赋值\u001b[39;00m\n\u001b[0;32m----> 2\u001b[0m \u001b[43mfoo\u001b[49m\n\u001b[1;32m      3\u001b[0m foo \u001b[38;5;241m=\u001b[39m \u001b[38;5;241m1\u001b[39m\n",
      "\u001b[0;31mNameError\u001b[0m: name 'foo' is not defined"
     ]
    }
   ],
   "source": [
    "# 变量声明同时必须要赋值初始化\n",
    "foo\n",
    "foo = 1 # foo没有初始化不能使用"
   ]
  },
  {
   "cell_type": "code",
   "execution_count": 12,
   "metadata": {},
   "outputs": [
    {
     "name": "stdout",
     "output_type": "stream",
     "text": [
      "1\n"
     ]
    }
   ],
   "source": [
    "# 类型声明和初始化可以分开，但使用前必须赋值初始化\n",
    "foo1: int\n",
    "# print(foo1) # 没有初始化，此处不可用\n",
    "\n",
    "foo1 = 1\n",
    "print(foo1)"
   ]
  },
  {
   "cell_type": "code",
   "execution_count": 14,
   "metadata": {},
   "outputs": [
    {
     "name": "stdout",
     "output_type": "stream",
     "text": [
      "is\n",
      "<class 'str'>\n",
      "float: 2.6 to int: 2\n"
     ]
    }
   ],
   "source": [
    "# 类型判断\n",
    "one = 1\n",
    "one = \"str\" # 改变类型\n",
    "if isinstance(one, str):\n",
    "    print(\"is\")\n",
    "print(type(one))\n",
    "\n",
    "# 类型转换\n",
    "one = 2.6\n",
    "print(f\"float: {one} to int: {int(one)}\")\n"
   ]
  },
  {
   "cell_type": "markdown",
   "metadata": {},
   "source": [
    "## 集合类数据类型"
   ]
  },
  {
   "cell_type": "code",
   "execution_count": 15,
   "metadata": {},
   "outputs": [
    {
     "name": "stdout",
     "output_type": "stream",
     "text": [
      "type: <class 'list'>, value: ['abcd', 786, 2.23, 'runoob', 70.2]\n",
      "_new_list: ['a', 'b', 1111]\n",
      "tup1 type: <class 'tuple'>, int1 type: <class 'int'>\n",
      "len: 3, value: {1, 'Google', 'Facebook'}\n",
      "b'Hello World!'\n",
      "bytearray(b'hello World!')\n"
     ]
    }
   ],
   "source": [
    "# list列表\n",
    "#\n",
    "_list = ['abcd', 786 , 2.23, 'runoob', 70.2 ]  # 定义一个列表\n",
    "print(f\"type: {type(_list)}, value: {_list}\")\n",
    "\n",
    "_new_list: list[str] = [\"a\", \"b\", 1111] # [str] 只是让 lint 做检查\n",
    "print(f\"_new_list: {_new_list}\")\n",
    "\n",
    "# tuple 元组\n",
    "#\n",
    "tup3 = ('abcd', 786 , 2.23, 'runoob', 70.2)\n",
    "# tup3[0] = 1 # TypeError: 'tuple' object does not support item assignment\n",
    "\n",
    "tup1 = ()    # 空元组\n",
    "tup2 = (20,) # 一个元素，需要在元素后添加逗号\n",
    "int1 = (20) # 非 tuple\n",
    "print(f\"tup1 type: {type(tup1)}, int1 type: {type(int1)}\")\n",
    "\n",
    "# set 集合\n",
    "#\n",
    "_set = {'Google', 'Facebook', 1, 1, 1, 1}\n",
    "print(f\"len: {len(_set)}, value: {_set}\")\n",
    "\n",
    "# 字典\n",
    "#\n",
    "_dict = {'code': 1}\n",
    "\n",
    "# 字节流\n",
    "#\n",
    "_bs: bytes = b\"Hello World!\" # bytes 不可变\n",
    "print(_bs)\n",
    "# _bs[0] = b\"h\" # TypeError: 'bytes' object does not support item assignment\n",
    "\n",
    "_ba: bytearray = bytearray(b\"Hello World!\") # bytearray 可变\n",
    "_ba[0] = ord(\"h\") # `ord` 是 \"ordinal\" 的缩写，表示字符的 \"序号\" 或 \"码点\"\n",
    "print(_ba)\n"
   ]
  },
  {
   "cell_type": "markdown",
   "metadata": {},
   "source": [
    "## 运算符\n",
    "\n",
    "基础数字计算、位运算等和常规语言一致\n",
    "\n",
    "```py\n",
    "+ - * / % & | ^\n",
    "```\n"
   ]
  },
  {
   "cell_type": "code",
   "execution_count": 16,
   "metadata": {},
   "outputs": [
    {
     "name": "stdout",
     "output_type": "stream",
     "text": [
      "a and b: True\n",
      "a and b: False\n",
      "True\n",
      "False\n"
     ]
    }
   ],
   "source": [
    "# 逻辑运算符 比较特殊\n",
    "#\n",
    "a, b = 10, 20\n",
    "if a and b:\n",
    "    print(\"a and b: True\")\n",
    "a = 0\n",
    "if not (a and b):\n",
    "    print(\"a and b: False\")\n",
    "\n",
    "# 成员运算符\n",
    "#\n",
    "a, b = 1, 10\n",
    "_list = [1, 2]\n",
    "print(a in _list)\n",
    "print(b in _list)\n"
   ]
  },
  {
   "cell_type": "markdown",
   "metadata": {},
   "source": [
    "## 流程控制"
   ]
  },
  {
   "cell_type": "code",
   "execution_count": 39,
   "metadata": {},
   "outputs": [
    {
     "name": "stdout",
     "output_type": "stream",
     "text": [
      "相当于 14 岁的人\n",
      "1 到 10 之和为: 55\n",
      "[0, 1, 2, 3]\n",
      "[1, 2, 3]\n",
      "Baidu\n",
      "Google\n",
      "Runoob\n",
      "Taobao\n"
     ]
    }
   ],
   "source": [
    "# 条件控制\n",
    "#\n",
    "dog_age = 1\n",
    "if dog_age <= 0:\n",
    "    print(\"你是在逗我吧!\")\n",
    "elif dog_age == 1:\n",
    "    print(\"相当于 14 岁的人\")\n",
    "else:\n",
    "    print(\"成熟的狗子\")\n",
    "\n",
    "# 循环\n",
    "#\n",
    "# while\n",
    "counter = 1\n",
    "n = 10\n",
    "sum = 0\n",
    "while counter <= n:\n",
    "    sum = sum + counter\n",
    "    counter += 1\n",
    "print(f\"1 到 %d 之和为: %d\" % (n,sum))\n",
    "\n",
    "# for 循环\n",
    "_list = []\n",
    "for n in range(4): # [0, 4) 半开区间\n",
    "    _list.append(n)\n",
    "print(_list)\n",
    "\n",
    "_list.clear()\n",
    "for n in range(1, 4): # 指定起点\n",
    "    _list.append(n)    \n",
    "print(_list)\n",
    "\n",
    "# for 更多是用于遍历集合\n",
    "sites = [\"Baidu\", \"Taobao\"]\n",
    "for site in sites:\n",
    "    print(site)\n",
    "\n",
    "# 空语句\n",
    "for site in sites:\n",
    "    if site == \"Taobao\":\n",
    "        print(site)\n",
    "    else:\n",
    "        pass # 必须要加 pass 占位\n"
   ]
  },
  {
   "cell_type": "markdown",
   "metadata": {},
   "source": [
    "## 函数"
   ]
  },
  {
   "cell_type": "code",
   "execution_count": 17,
   "metadata": {},
   "outputs": [
    {
     "name": "stdout",
     "output_type": "stream",
     "text": [
      "2\n",
      "2\n",
      "max between str: world\n"
     ]
    }
   ],
   "source": [
    "def max(a, b):\n",
    "    if a > b:\n",
    "        return a\n",
    "    return b\n",
    "print(max(1, 2))\n",
    "\n",
    "# 带上类型标识\n",
    "#\n",
    "def max_with_type(a: int, b: int) -> int:\n",
    "    return max(a, b)\n",
    "print(max_with_type(1, 2))\n",
    "\n",
    "# 类型不匹配, 不影响运行\n",
    "#\n",
    "str_max = max_with_type(\"hello\", \"world\")\n",
    "print(f\"max between str: {str_max}\")\n"
   ]
  },
  {
   "cell_type": "code",
   "execution_count": 1,
   "metadata": {},
   "outputs": [
    {
     "name": "stdout",
     "output_type": "stream",
     "text": [
      "name: runoob, age: 50\n",
      "name: runoob, age: 35\n",
      "name: runoob, age: diff_type\n",
      "name: runoob, age: 5\n",
      "ret type: <class 'tuple'>, value: (2, 2)\n"
     ]
    }
   ],
   "source": [
    "# 入参默认值\n",
    "#\n",
    "def default_input(name, age=35):\n",
    "   print(f\"name: {name}, age: {age}\")\n",
    "default_input(age=50, name=\"runoob\") # 不要求顺序\n",
    "default_input(name=\"runoob\") # 使用age默认值\n",
    "default_input(name=\"runoob\", age=\"diff_type\") # 只是类型lint错误\n",
    "\n",
    "# 多个返回值会被转换成 tuple\n",
    "#\n",
    "def mul_return(a, b):\n",
    "    a += 1\n",
    "    return a, b\n",
    "ret = mul_return(1, 2)\n",
    "print(f\"ret type: {type(ret)}, value: {ret}\")"
   ]
  },
  {
   "cell_type": "code",
   "execution_count": 19,
   "metadata": {},
   "outputs": [
    {
     "name": "stdout",
     "output_type": "stream",
     "text": [
      "[1, 2, 999]\n",
      "i: 11\n",
      "after:  10\n",
      "i: Tom1\n",
      "after:  Tom\n"
     ]
    }
   ],
   "source": [
    "# 函数入参的内存数据会被修改\n",
    "#\n",
    "def changeme(mylist: list):\n",
    "   mylist.append(999)\n",
    "\n",
    "mylist = [1,2]\n",
    "changeme(mylist) # 内存数据被修改\n",
    "print(mylist)\n",
    "\n",
    "# 不可变的对象除外 int float str\n",
    "#\n",
    "a, b = 10, \"Tom\"\n",
    "def test(i):\n",
    "   _type = type(i)\n",
    "   if _type is int:\n",
    "      i += 1\n",
    "   elif _type is str:\n",
    "      i += \"1\"\n",
    "   print(f\"i: {i}\")\n",
    "test(a)\n",
    "print(\"after: \", a)\n",
    "test(b)\n",
    "print(\"after: \", b)"
   ]
  },
  {
   "cell_type": "markdown",
   "metadata": {},
   "source": [
    "## 装饰器：包装函数\n",
    "\n",
    "特殊的函数，返回值为入参中的同名函数"
   ]
  },
  {
   "cell_type": "code",
   "execution_count": 20,
   "metadata": {},
   "outputs": [
    {
     "name": "stdout",
     "output_type": "stream",
     "text": [
      "ret: 2\n",
      "ret: 2\n"
     ]
    }
   ],
   "source": [
    "# 定义包装函数\n",
    "def print_return(ori):\n",
    "    def wrapper(*args, **kwargs):\n",
    "        ret = ori(*args, **kwargs)\n",
    "        print(f\"ret: {ret}\")\n",
    "    return wrapper\n",
    "\n",
    "# 使用包装函数\n",
    "@print_return\n",
    "def incr(a: int) -> int:\n",
    "    a += 1\n",
    "    return a\n",
    "incr(1)\n",
    "\n",
    "def incr_no_decorator(a: int): # def incr_no_decorator(...) -> int\n",
    "    a += 1\n",
    "    return a\n",
    "\n",
    "# @语法糖 等价于\n",
    "incr_no_decorator = print_return(incr_no_decorator) # def wrapper(...) -> None\n",
    "incr_no_decorator(1)\n"
   ]
  },
  {
   "cell_type": "markdown",
   "metadata": {},
   "source": [
    "## 作用域"
   ]
  },
  {
   "cell_type": "code",
   "execution_count": 21,
   "metadata": {},
   "outputs": [
    {
     "name": "stdout",
     "output_type": "stream",
     "text": [
      "total in func: 3\n",
      "total: 0\n",
      "in func total: 3, num: 3\n",
      "total: 3, num: 3\n"
     ]
    }
   ],
   "source": [
    "# 函数内同名变量是作用域是函数内部\n",
    "\n",
    "total = 0\n",
    "def sum(arg1, arg2):\n",
    "    total = arg1 + arg2 # total在这里是局部变量\n",
    "    print(\"total in func:\", total)\n",
    "sum(1, 2)\n",
    "print(\"total:\", total)\n",
    "\n",
    "def sum_global(arg1, arg2):\n",
    "    global total\n",
    "    global num # 在外层作用域会创建 num\n",
    "    total = arg1 + arg2\n",
    "    num = total\n",
    "    print(f\"in func total: {total}, num: {num}\")\n",
    "sum_global(1, 2)\n",
    "print(f\"total: {total}, num: {num}\")\n"
   ]
  },
  {
   "cell_type": "markdown",
   "metadata": {},
   "source": [
    "## 异常处理\n",
    "\n",
    "try/except...else 语法"
   ]
  },
  {
   "cell_type": "code",
   "execution_count": 22,
   "metadata": {},
   "outputs": [
    {
     "name": "stdout",
     "output_type": "stream",
     "text": [
      "got Exception and raise\n",
      "catch unknow ERROR: division by zero\n"
     ]
    }
   ],
   "source": [
    "def this_fails(a: int, b: int):\n",
    "    try:\n",
    "        x = a / b\n",
    "    except Exception:\n",
    "        print(\"got Exception and raise\")\n",
    "        raise # 抛给上层\n",
    "\n",
    "try:\n",
    "    this_fails(1, 0)\n",
    "except ValueError as err:\n",
    "    print(f\"catch ValueError: {err}\")\n",
    "except OSError as err:\n",
    "    print(f\"catch OSError: {err}\")\n",
    "except Exception as err: # 其他类型最后捕获\n",
    "    print(f\"catch unknow ERROR: {err}\")\n"
   ]
  },
  {
   "cell_type": "code",
   "execution_count": 23,
   "metadata": {},
   "outputs": [
    {
     "name": "stdout",
     "output_type": "stream",
     "text": [
      "got no Error\n",
      "catch error: the error msg\n",
      "finally do\n"
     ]
    }
   ],
   "source": [
    "# else 与 fianlly\n",
    "#\n",
    "try:\n",
    "    a = 1 + 1\n",
    "except Exception:\n",
    "    print(f\"got Error\")\n",
    "else: # 没有异常才会执行\n",
    "    print(\"got no Error\")\n",
    "\n",
    "try:\n",
    "    raise ValueError(\"the error msg\")\n",
    "except Exception as err:\n",
    "    print(f\"catch error: {err}\")\n",
    "finally:\n",
    "    print(\"finally do\")"
   ]
  },
  {
   "cell_type": "markdown",
   "metadata": {},
   "source": [
    "# 面向对象"
   ]
  },
  {
   "cell_type": "code",
   "execution_count": 27,
   "metadata": {},
   "outputs": [
    {
     "name": "stdout",
     "output_type": "stream",
     "text": [
      "3.0 -4.5\n",
      "x.str_attr: modified\n",
      "after add, r: 4.0\n",
      "set key: Tom, value: cat\n",
      "set key: Jerry, value: raise\n"
     ]
    },
    {
     "ename": "AttributeError",
     "evalue": "'Complex' object has no attribute '__private_method'",
     "output_type": "error",
     "traceback": [
      "\u001b[0;31m---------------------------------------------------------------------------\u001b[0m",
      "\u001b[0;31mAttributeError\u001b[0m                            Traceback (most recent call last)",
      "Cell \u001b[0;32mIn[27], line 45\u001b[0m\n\u001b[1;32m     43\u001b[0m x[\u001b[38;5;124m\"\u001b[39m\u001b[38;5;124mTom\u001b[39m\u001b[38;5;124m\"\u001b[39m] \u001b[38;5;241m=\u001b[39m \u001b[38;5;124m\"\u001b[39m\u001b[38;5;124mcat\u001b[39m\u001b[38;5;124m\"\u001b[39m \u001b[38;5;66;03m# call __setitem__\u001b[39;00m\n\u001b[1;32m     44\u001b[0m x\u001b[38;5;241m.\u001b[39m\u001b[38;5;21m__setitem__\u001b[39m(\u001b[38;5;124m\"\u001b[39m\u001b[38;5;124mJerry\u001b[39m\u001b[38;5;124m\"\u001b[39m, \u001b[38;5;124m\"\u001b[39m\u001b[38;5;124mraise\u001b[39m\u001b[38;5;124m\"\u001b[39m)\n\u001b[0;32m---> 45\u001b[0m \u001b[43mx\u001b[49m\u001b[38;5;241;43m.\u001b[39;49m\u001b[43m__private_method\u001b[49m()\n\u001b[1;32m     46\u001b[0m x[\u001b[38;5;124m\"\u001b[39m\u001b[38;5;124mTom\u001b[39m\u001b[38;5;124m\"\u001b[39m] \u001b[38;5;66;03m# call __getitem__\u001b[39;00m\n\u001b[1;32m     47\u001b[0m x(\u001b[38;5;241m1\u001b[39m) \u001b[38;5;66;03m# call __call__\u001b[39;00m\n",
      "\u001b[0;31mAttributeError\u001b[0m: 'Complex' object has no attribute '__private_method'"
     ]
    }
   ],
   "source": [
    "from typing import Any\n",
    "\n",
    "\n",
    "class Complex:\n",
    "    # 特殊方法：构造函数\n",
    "    def __init__(self, realpart, imagpart):\n",
    "        self.r = realpart\n",
    "        self.i = imagpart\n",
    "        self._protected_attr = 1\n",
    "        self.__private_attr = 2\n",
    "        self.data = {}\n",
    "    # 类变量\n",
    "    str_attr = \"a class attr, type: str\"\n",
    "\n",
    "    # 普通方法\n",
    "    def add(self, r): # 第一个参数为示例自身\n",
    "        self.r += r\n",
    "        print(\"after add, r:\", self.r)\n",
    "    # 受保护方法，外部可使用\n",
    "    def _protected_method(self):\n",
    "        pass\n",
    "    # 私有方法，外部使用会抛异常\n",
    "    def __private_method(self):\n",
    "        pass\n",
    "    \n",
    "    # 特殊方法\n",
    "    def __setitem__(self, key, value):\n",
    "        self.data[key] = value\n",
    "        print(f\"set key: {key}, value: {value}\")\n",
    "    def __getitem__(self, key):\n",
    "        value = self.data[key]\n",
    "        print(f\"get key: {key}, value: {value}\")\n",
    "    def __call__(self, r):\n",
    "        self.add(r)\n",
    "\n",
    "x = Complex(3.0, -4.5)\n",
    "print(x.r, x.i)\n",
    "Complex.str_attr = \"modified\"\n",
    "print(f\"x.str_attr: {x.str_attr}\")\n",
    "\n",
    "x.add(1)\n",
    "\n",
    "x[\"Tom\"] = \"cat\" # call __setitem__\n",
    "x.__setitem__(\"Jerry\", \"raise\")\n",
    "# x.__private_method()\n",
    "x[\"Tom\"] # call __getitem__\n",
    "x(1) # call __call__\n"
   ]
  },
  {
   "cell_type": "markdown",
   "metadata": {},
   "source": [
    "__init__ : 构造函数，在生成对象时调用\n",
    "__call__: 函数调用\n",
    "__setitem__ : 按照索引赋值\n",
    "__getitem__: 按照索引获取值"
   ]
  },
  {
   "cell_type": "markdown",
   "metadata": {},
   "source": [
    "## 一些有用的技巧"
   ]
  },
  {
   "cell_type": "code",
   "execution_count": 29,
   "metadata": {},
   "outputs": [
    {
     "name": "stdout",
     "output_type": "stream",
     "text": [
      "x.instance_var: 0, x.class_var: 2\n",
      "type of x: <class '__main__.MyClass'>, asdict: {'ins_var1': 'ss', 'ins_var2': 0}\n"
     ]
    }
   ],
   "source": [
    "from dataclasses import dataclass, field, asdict\n",
    "from typing import ClassVar\n",
    "\n",
    "# 使用 dataclass 节省 __init__ 写法\n",
    "@dataclass\n",
    "class MyClass:\n",
    "    ins_var1: int\n",
    "    ins_var2: int = 0  # 实例变量，带默认值\n",
    "    class_var: ClassVar[int] = 10  # 类变量，带默认值\n",
    "\n",
    "x = MyClass(ins_var1=1)\n",
    "MyClass.class_var = 2\n",
    "print(f\"x.instance_var: {x.ins_var2}, x.class_var: {x.class_var}\")\n",
    "\n",
    "print(f\"type of x: {type(x)}, asdict: {asdict(x)}\")\n"
   ]
  },
  {
   "cell_type": "markdown",
   "metadata": {},
   "source": [
    "## 继承与多态"
   ]
  },
  {
   "cell_type": "markdown",
   "metadata": {},
   "source": [
    "# 包管理\n"
   ]
  },
  {
   "cell_type": "markdown",
   "metadata": {},
   "source": [
    "\n",
    "> Python模块和包管理 - Lishude's Web Note\n",
    "https://islishude.github.io/blog/2019/06/29/python/Python%E6%A8%A1%E5%9D%97%E5%92%8C%E5%8C%85%E7%AE%A1%E7%90%86/\n",
    "\n",
    "\n",
    "在 Python 中每一个 .py 都可以视作一个模块（module），而每一个包含 `__init__.py` 的目录则可以视作包（packge）\n",
    "\n",
    "```\n",
    "├── main.py\n",
    "├── packs\n",
    "│   ├── __init__.py\n",
    "│   └── one.py\n",
    "```\n",
    "\n",
    "`one.py`内容\n",
    "```py\n",
    "def One():\n",
    "    print(\"module one\")\n",
    "\n",
    "\n",
    "def OneOne():\n",
    "    print(\"module one/one\")\n",
    "\n",
    "```\n",
    "\n",
    "`main.py` 中引用\n",
    "```py\n",
    "import packs\n",
    "packs.one.One()\n",
    "\n",
    "# 或者\n",
    "from packs.one import One\n",
    "One()\n",
    "```\n",
    "\n",
    "## 使用 `__init__.py` 包初始化\n",
    "\n",
    "```\n",
    "├── main.py\n",
    "├── packs\n",
    "│   ├── __init__.py\n",
    "│   └── one.py\n",
    "```\n",
    "\n",
    "```py\n",
    "# __init__.py 写下如下内容\n",
    "from .one import One # 中要指定文件相对路径, `.` 表示 __init__.py 所在目录\n",
    "print(\"packs one imported\")\n",
    "\n",
    "\n",
    "# main.py 中则可快捷导入\n",
    "from packs import One\n",
    "```\n",
    "\n",
    "## 外部包管理 `pip`\n",
    "\n",
    "```shell\n",
    "pip install <package_name> # 安装\n",
    "pip show <package_name> # 查看包版本等信息\n",
    "\n",
    "pip install -r requirement.txt # 从包依赖文件安装\n",
    "```\n"
   ]
  },
  {
   "cell_type": "markdown",
   "metadata": {},
   "source": [
    "# 网络编程\n",
    "\n",
    "常用的包\n",
    "\n",
    "```py\n",
    "import requests\n",
    "import json\n",
    "\n",
    "body = requests.post(f\"xxx\")\n",
    "rsp = body.json() # Response body 转成JSON\n",
    "rsp_json_str = json.dumps(rsp) # dump str\n",
    "```"
   ]
  },
  {
   "cell_type": "markdown",
   "metadata": {},
   "source": [
    "## WSGI 与 flask/gunicorn\n",
    "\n",
    "- python 是脚本语言\n",
    "\n",
    "- 如何将脚本代码弄成 HTTP 服务进程\n",
    "\n",
    "JavaScript 可挂载到 Nginx 运行\n",
    "\n",
    "WSGI(Web Server Gateway Interface): python 开发 HTTP 的标准。分为 `web server` 和 `web application` 两个模块\n",
    "\n",
    "1. `web application`: Python 代码；可用 `flask` Python开发包编写\n",
    "\n",
    "2. `web server`: 运行 Python 代码的进程；如 `gunicorn`、`flask Development Server`\n"
   ]
  },
  {
   "cell_type": "code",
   "execution_count": 9,
   "metadata": {},
   "outputs": [
    {
     "name": "stdout",
     "output_type": "stream",
     "text": [
      " * Serving Flask app '__main__'\n",
      " * Debug mode: off\n"
     ]
    },
    {
     "name": "stderr",
     "output_type": "stream",
     "text": [
      "\u001b[31m\u001b[1mWARNING: This is a development server. Do not use it in a production deployment. Use a production WSGI server instead.\u001b[0m\n",
      " * Running on http://127.0.0.1:1086\n",
      "\u001b[33mPress CTRL+C to quit\u001b[0m\n"
     ]
    }
   ],
   "source": [
    "# app.py\n",
    "from flask import Flask\n",
    "app = Flask(__name__)\n",
    "\n",
    "@app.route(\"/hello\", methods=[\"GET\"])\n",
    "def hello():\n",
    "    print(\"Hello World!\")\n",
    "    return 'Hello, World!'\n",
    "\n",
    "if __name__ == \"__main__\":\n",
    "    app.run(port=1086)"
   ]
  },
  {
   "cell_type": "markdown",
   "metadata": {},
   "source": [
    "启动 gunicorn 执行代码：\n",
    "\n",
    "Dockerfile 中启动 `gunicorn` 示例\n",
    "```Dockerfile\n",
    "CMD gunicorn app:app\n",
    "```"
   ]
  }
 ],
 "metadata": {
  "kernelspec": {
   "display_name": "Python 3",
   "language": "python",
   "name": "python3"
  },
  "language_info": {
   "codemirror_mode": {
    "name": "ipython",
    "version": 3
   },
   "file_extension": ".py",
   "mimetype": "text/x-python",
   "name": "python",
   "nbconvert_exporter": "python",
   "pygments_lexer": "ipython3",
   "version": "3.8.17"
  }
 },
 "nbformat": 4,
 "nbformat_minor": 2
}
